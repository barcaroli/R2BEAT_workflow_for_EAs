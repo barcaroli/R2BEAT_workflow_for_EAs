{
  "nbformat": 4,
  "nbformat_minor": 0,
  "metadata": {
    "colab": {
      "provenance": []
    },
    "kernelspec": {
      "name": "ir",
      "display_name": "R"
    },
    "language_info": {
      "name": "R"
    }
  },
  "cells": [
    {
      "cell_type": "code",
      "execution_count": 1,
      "metadata": {
        "colab": {
          "base_uri": "https://localhost:8080/",
          "height": 34
        },
        "id": "9fo3M6OWePEr",
        "outputId": "aef84e25-9651-4b92-dab2-79db7c46e4df"
      },
      "outputs": [
        {
          "output_type": "display_data",
          "data": {
            "text/html": [
              "'R version 4.2.3 (2023-03-15)'"
            ],
            "text/markdown": "'R version 4.2.3 (2023-03-15)'",
            "text/latex": "'R version 4.2.3 (2023-03-15)'",
            "text/plain": [
              "[1] \"R version 4.2.3 (2023-03-15)\""
            ]
          },
          "metadata": {}
        }
      ],
      "source": [
        "R.version.string"
      ]
    },
    {
      "cell_type": "code",
      "source": [
        "install.packages(\"devtools\")"
      ],
      "metadata": {
        "colab": {
          "base_uri": "https://localhost:8080/"
        },
        "id": "G_gPQwuD5nSe",
        "outputId": "3daac0dd-a301-44b4-8cf1-b9dc2ec4a63b"
      },
      "execution_count": 2,
      "outputs": [
        {
          "output_type": "stream",
          "name": "stderr",
          "text": [
            "Installing package into ‘/usr/local/lib/R/site-library’\n",
            "(as ‘lib’ is unspecified)\n",
            "\n",
            "also installing the dependencies ‘Rcpp’, ‘httpuv’, ‘xtable’, ‘fontawesome’, ‘sourcetools’, ‘later’, ‘promises’, ‘textshaping’, ‘shiny’, ‘downlit’, ‘ragg’, ‘htmlwidgets’, ‘miniUI’, ‘pkgdown’, ‘profvis’, ‘urlchecker’\n",
            "\n",
            "\n",
            "Warning message in install.packages(\"devtools\"):\n",
            "“installation of package ‘textshaping’ had non-zero exit status”\n",
            "Warning message in install.packages(\"devtools\"):\n",
            "“installation of package ‘ragg’ had non-zero exit status”\n",
            "Warning message in install.packages(\"devtools\"):\n",
            "“installation of package ‘pkgdown’ had non-zero exit status”\n",
            "Warning message in install.packages(\"devtools\"):\n",
            "“installation of package ‘devtools’ had non-zero exit status”\n"
          ]
        }
      ]
    },
    {
      "cell_type": "code",
      "source": [
        "devtools::install_github(\"DiegoZardetto/ReGenesees\")\n",
        "library(ReGenesees)"
      ],
      "metadata": {
        "colab": {
          "base_uri": "https://localhost:8080/"
        },
        "id": "UEWYuWmMAIj0",
        "outputId": "bfbb60b7-6364-40be-a33c-0dd6a9402c10"
      },
      "execution_count": 1,
      "outputs": [
        {
          "output_type": "stream",
          "name": "stderr",
          "text": [
            "Downloading GitHub repo DiegoZardetto/ReGenesees@HEAD\n",
            "\n"
          ]
        },
        {
          "output_type": "stream",
          "name": "stdout",
          "text": [
            "\u001b[36m──\u001b[39m \u001b[36mR CMD build\u001b[39m \u001b[36m─────────────────────────────────────────────────────────────────\u001b[39m\n",
            "* checking for file ‘/tmp/RtmpNKmFgY/remotes16f32073a68/DiegoZardetto-ReGenesees-5ebe9df/DESCRIPTION’ ... OK\n",
            "* preparing ‘ReGenesees’:\n",
            "* checking DESCRIPTION meta-information ... OK\n",
            "* checking for LF line-endings in source and make files and shell scripts\n",
            "* checking for empty or unneeded directories\n",
            "* looking to see if a ‘data/datalist’ file should be added\n",
            "* building ‘ReGenesees_2.2.tar.gz’\n",
            "\n"
          ]
        },
        {
          "output_type": "stream",
          "name": "stderr",
          "text": [
            "Installing package into ‘/usr/local/lib/R/site-library’\n",
            "(as ‘lib’ is unspecified)\n",
            "\n",
            "\n",
            "\n",
            "\n",
            "\n",
            "--------------------------------------------------------\n",
            "\n",
            "> The ReGenesees package has been successfully loaded. <\n",
            "\n",
            "--------------------------------------------------------\n",
            "\n",
            "\n",
            "\n",
            "\n",
            "\n"
          ]
        },
        {
          "output_type": "stream",
          "name": "stdout",
          "text": [
            "Package: ReGenesees\n",
            "Type: Package\n",
            "Title: R Evolved Generalized Software for Sampling Estimates and Errors\n",
            "        in Surveys\n",
            "Description: Design-Based and Model-Assisted analysis of complex sample\n",
            "        surveys. Multistage, stratified, clustered, unequally weighted\n",
            "        survey designs. Calibration of survey weights. Horvitz-Thompson\n",
            "        and Calibration Estimators. Variance Estimation for nonlinear\n",
            "        smooth estimators by Taylor-series linearization. Estimates,\n",
            "        standard errors, confidence intervals and design effects for:\n",
            "        Totals, Means, absolute and relative Frequency Distributions\n",
            "        (marginal, conditional, and joint), Ratios, Shares and Ratios\n",
            "        of Shares, Multiple Regression Coefficients, and Quantiles.\n",
            "        Automated Linearization of user-defined Complex Estimators.\n",
            "        Design Covariance and Correlation. Estimates and sampling\n",
            "        errors of user-defined complex Measures of Change derived from\n",
            "        two not necessarily independent samples. Estimates and sampling\n",
            "        errors for subpopulations. Consistent trimming of calibration\n",
            "        weights. Calibration on complex population parameters, e.g.\n",
            "        multiple regression coefficients. Generalized Variance\n",
            "        Functions (GVF) method for predicting variance estimates.\n",
            "Version: 2.2\n",
            "Author: Diego Zardetto [aut, cre]\n",
            "Maintainer: Diego Zardetto <zardetto@istat.it>\n",
            "Authors@R: person(\"Diego\", \"Zardetto\", role = c(\"aut\", \"cre\"), email =\n",
            "        \"zardetto@istat.it\")\n",
            "URL: https://diegozardetto.github.io/ReGenesees/,\n",
            "        https://github.com/DiegoZardetto/ReGenesees/\n",
            "BugReports: https://github.com/DiegoZardetto/ReGenesees/issues/\n",
            "Copyright: Diego Zardetto and Thomas Lumley (for incorporating modified\n",
            "        code derived from early versions of the survey package).\n",
            "License: EUPL\n",
            "Imports: stats, MASS\n",
            "Depends: R (>= 3.5.0)\n",
            "ByteCompile: TRUE\n",
            "RemoteType: github\n",
            "RemoteHost: api.github.com\n",
            "RemoteRepo: ReGenesees\n",
            "RemoteUsername: DiegoZardetto\n",
            "RemoteRef: HEAD\n",
            "RemoteSha: 5ebe9df0d61e68421e406eb4355e9048d5c6f982\n",
            "GithubRepo: ReGenesees\n",
            "GithubUsername: DiegoZardetto\n",
            "GithubRef: HEAD\n",
            "GithubSHA1: 5ebe9df0d61e68421e406eb4355e9048d5c6f982\n",
            "NeedsCompilation: no\n",
            "Packaged: 2023-03-27 21:57:50 UTC; root\n",
            "Built: R 4.2.3; ; 2023-03-27 21:57:53 UTC; unix\n"
          ]
        },
        {
          "output_type": "stream",
          "name": "stderr",
          "text": [
            "\n",
            "\n"
          ]
        }
      ]
    },
    {
      "cell_type": "code",
      "source": [
        "devtools::install_github(\"barcaroli/R2BEAT\")\n",
        "library(R2BEAT)"
      ],
      "metadata": {
        "colab": {
          "base_uri": "https://localhost:8080/"
        },
        "id": "we3-D2-8AFpf",
        "outputId": "31ce93b3-e053-4006-8f3d-1f90236effae"
      },
      "execution_count": 2,
      "outputs": [
        {
          "output_type": "stream",
          "name": "stderr",
          "text": [
            "Downloading GitHub repo barcaroli/R2BEAT@HEAD\n",
            "\n"
          ]
        },
        {
          "output_type": "stream",
          "name": "stdout",
          "text": [
            "cli         (3.6.0  -> 3.6.1  ) [CRAN]\n",
            "vctrs       (0.6.0  -> 0.6.1  ) [CRAN]\n",
            "pillar      (1.8.1  -> 1.9.0  ) [CRAN]\n",
            "tibble      (3.2.0  -> 3.2.1  ) [CRAN]\n",
            "ps          (1.7.2  -> 1.7.3  ) [CRAN]\n",
            "pkgload     (1.3.1  -> 1.3.2  ) [CRAN]\n",
            "jsonlite    (1.8.3  -> 1.8.4  ) [CRAN]\n",
            "digest      (0.6.30 -> 0.6.31 ) [CRAN]\n",
            "xfun        (0.37   -> 0.38   ) [CRAN]\n",
            "highr       (0.9    -> 0.10   ) [CRAN]\n",
            "stringr     (1.4.1  -> 1.5.0  ) [CRAN]\n",
            "fontawesome (NA     -> 0.5.0  ) [CRAN]\n",
            "bslib       (0.4.1  -> 0.4.2  ) [CRAN]\n",
            "rmarkdown   (2.20   -> 2.21   ) [CRAN]\n",
            "htmltools   (0.5.4  -> 0.5.5  ) [CRAN]\n",
            "htmlwidgets (NA     -> 1.6.2  ) [CRAN]\n",
            "textshaping (NA     -> 0.3.6  ) [CRAN]\n",
            "whisker     (0.4    -> 0.4.1  ) [CRAN]\n",
            "ragg        (NA     -> 1.2.5  ) [CRAN]\n",
            "downlit     (NA     -> 0.4.2  ) [CRAN]\n",
            "Rcpp        (NA     -> 1.0.10 ) [CRAN]\n",
            "promises    (NA     -> 1.2.0.1) [CRAN]\n",
            "later       (NA     -> 1.3.0  ) [CRAN]\n",
            "sourcetools (NA     -> 0.1.7-1) [CRAN]\n",
            "xtable      (NA     -> 1.8-4  ) [CRAN]\n",
            "httpuv      (NA     -> 1.6.9  ) [CRAN]\n",
            "shiny       (NA     -> 1.7.4  ) [CRAN]\n",
            "gert        (1.9.1  -> 1.9.2  ) [CRAN]\n",
            "lpSolve     (NA     -> 5.6.18 ) [CRAN]\n",
            "urlchecker  (NA     -> 1.0.1  ) [CRAN]\n",
            "roxygen2    (7.2.2  -> 7.2.3  ) [CRAN]\n",
            "profvis     (NA     -> 0.3.7  ) [CRAN]\n",
            "pkgdown     (NA     -> 2.0.7  ) [CRAN]\n",
            "miniUI      (NA     -> 0.1.1.1) [CRAN]\n",
            "sampling    (NA     -> 2.9    ) [CRAN]\n",
            "devtools    (2.4.3  -> 2.4.5  ) [CRAN]\n"
          ]
        },
        {
          "output_type": "stream",
          "name": "stderr",
          "text": [
            "Installing 36 packages: cli, vctrs, pillar, tibble, ps, pkgload, jsonlite, digest, xfun, highr, stringr, fontawesome, bslib, rmarkdown, htmltools, htmlwidgets, textshaping, whisker, ragg, downlit, Rcpp, promises, later, sourcetools, xtable, httpuv, shiny, gert, lpSolve, urlchecker, roxygen2, profvis, pkgdown, miniUI, sampling, devtools\n",
            "\n",
            "Installing packages into ‘/usr/local/lib/R/site-library’\n",
            "(as ‘lib’ is unspecified)\n",
            "\n",
            "Warning message in i.p(...):\n",
            "“installation of package ‘textshaping’ had non-zero exit status”\n",
            "Warning message in i.p(...):\n",
            "“installation of package ‘ragg’ had non-zero exit status”\n",
            "Warning message in i.p(...):\n",
            "“installation of package ‘pkgdown’ had non-zero exit status”\n",
            "Warning message in i.p(...):\n",
            "“installation of package ‘devtools’ had non-zero exit status”\n"
          ]
        },
        {
          "output_type": "stream",
          "name": "stdout",
          "text": [
            "\u001b[36m──\u001b[39m \u001b[36mR CMD build\u001b[39m \u001b[36m─────────────────────────────────────────────────────────────────\u001b[39m\n",
            "* checking for file ‘/tmp/RtmpNKmFgY/remotes16f1a707ce8/barcaroli-R2BEAT-fa3f301/DESCRIPTION’ ... OK\n",
            "* preparing ‘R2BEAT’:\n",
            "* checking DESCRIPTION meta-information ... OK\n",
            "* checking for LF line-endings in source and make files and shell scripts\n",
            "* checking for empty or unneeded directories\n",
            "* looking to see if a ‘data/datalist’ file should be added\n",
            "* building ‘R2BEAT_1.0.5.tar.gz’\n",
            "\n"
          ]
        },
        {
          "output_type": "stream",
          "name": "stderr",
          "text": [
            "Installing package into ‘/usr/local/lib/R/site-library’\n",
            "(as ‘lib’ is unspecified)\n",
            "\n",
            "Loading required package: devtools\n",
            "\n",
            "Loading required package: usethis\n",
            "\n",
            "Loading required package: sampling\n",
            "\n",
            "Loading required package: glue\n",
            "\n"
          ]
        }
      ]
    },
    {
      "cell_type": "code",
      "source": [
        "help(package=\"R2BEAT\")"
      ],
      "metadata": {
        "id": "uxlway-uFJ4w"
      },
      "execution_count": 3,
      "outputs": []
    },
    {
      "cell_type": "code",
      "source": [
        "load(url(\"https://raw.githubusercontent.com/barcaroli/R2BEAT_workflow_for_EAs/main/sample.RData\"))\n",
        "load(url(\"https://raw.githubusercontent.com/barcaroli/R2BEAT_workflow_for_EAs/main/frame_pop_EA.Rdata\"))\n",
        "load(url(\"https://raw.githubusercontent.com/barcaroli/R2BEAT_workflow_for_EAs/main/R2BEAT_ReGenesees.RData\"))\n",
        "ls()"
      ],
      "metadata": {
        "colab": {
          "base_uri": "https://localhost:8080/",
          "height": 34
        },
        "id": "_9MTPRBMfJFD",
        "outputId": "ea7450c0-b091-4a59-8ada-1cc0e60c7d5d"
      },
      "execution_count": 4,
      "outputs": [
        {
          "output_type": "display_data",
          "data": {
            "text/html": [
              "<style>\n",
              ".list-inline {list-style: none; margin:0; padding: 0}\n",
              ".list-inline>li {display: inline-block}\n",
              ".list-inline>li:not(:last-child)::after {content: \"\\00b7\"; padding: 0 .5ex}\n",
              "</style>\n",
              "<ol class=list-inline><li>'cal'</li><li>'des'</li><li>'frame_pop_EA'</li><li>'psu'</li><li>'samp'</li></ol>\n"
            ],
            "text/markdown": "1. 'cal'\n2. 'des'\n3. 'frame_pop_EA'\n4. 'psu'\n5. 'samp'\n\n\n",
            "text/latex": "\\begin{enumerate*}\n\\item 'cal'\n\\item 'des'\n\\item 'frame\\_pop\\_EA'\n\\item 'psu'\n\\item 'samp'\n\\end{enumerate*}\n",
            "text/plain": [
              "[1] \"cal\"          \"des\"          \"frame_pop_EA\" \"psu\"          \"samp\"        "
            ]
          },
          "metadata": {}
        }
      ]
    },
    {
      "cell_type": "code",
      "source": [
        "samp$stratum_2 <- as.factor(samp$stratum_2)\n",
        "sample.des <- e.svydesign(samp, \n",
        "                          ids= ~ id_MUN_EA + id_hh, \n",
        "                          strata = ~ stratum_2, \n",
        "                          weights = ~ weight,\n",
        "                          self.rep.str = ~ SR,\n",
        "                          check.data = TRUE)\n",
        "\n",
        "\n",
        "## --------------------------------------------------------------------------------------------\n",
        "ls <- find.lon.strata(sample.des)\n",
        "if (!is.null(ls)) sample.des <- collapse.strata(sample.des)\n",
        "\n",
        "\n",
        "## --------------------------------------------------------------------------------------------\n",
        "totals <- pop.template(sample.des,\n",
        "                       calmodel = ~ sex : cl_age, \n",
        "                       partition = ~ region)\n",
        "totals <- fill.template(frame_pop_EA, totals, mem.frac = 10)\n",
        "sample.cal <- e.calibrate(sample.des, \n",
        "                          totals,\n",
        "                          calmodel = ~ sex : cl_age, \n",
        "                          partition = ~ region,\n",
        "                          calfun = \"logit\",\n",
        "                          bounds = c(0.3, 2.6), \n",
        "                          aggregate.stage = 2,\n",
        "                          force = FALSE)"
      ],
      "metadata": {
        "colab": {
          "base_uri": "https://localhost:8080/"
        },
        "id": "S9pFgvEg5Pjm",
        "outputId": "5dda1ebe-cd71-4b48-a2c8-181dbbe58134"
      },
      "execution_count": 5,
      "outputs": [
        {
          "output_type": "stream",
          "name": "stdout",
          "text": [
            "\n",
            "# Empty levels found in factors: id_hh\n",
            "# Empty levels have been dropped!\n",
            "\n"
          ]
        },
        {
          "output_type": "stream",
          "name": "stderr",
          "text": [
            "Warning message in e.svydesign(samp, ids = ~id_MUN_EA + id_hh, strata = ~stratum_2, :\n",
            "“Sampling variance estimation for this design will take into account only leading contributions, i.e. PSUs in not-SR strata and SSUs in SR strata (see ?e.svydesign and ?ReGenesees.options for details)”\n"
          ]
        },
        {
          "output_type": "stream",
          "name": "stdout",
          "text": [
            "# No lonely PSUs found!\n",
            "\n",
            "\n",
            "# Empty levels found in factors: id_hh\n",
            "# Empty levels have been dropped!\n",
            "\n",
            "\n",
            "# Coherence check between 'universe' and 'template': OK\n",
            "\n"
          ]
        }
      ]
    },
    {
      "cell_type": "code",
      "source": [
        "samp_frame <- frame_pop_EA\n",
        "RGdes <- sample.des\n",
        "RGcal <- sample.cal\n",
        "strata_var <- c(\"stratum\")      \n",
        "target_vars <- c(\"income_hh\",\n",
        "                 \"active\",\n",
        "                 \"inactive\",\n",
        "                 \"unemployed\")   \n",
        "weight_var <- \"weight\"\n",
        "deff_var <- \"stratum\"            \n",
        "id_PSU <- c(\"id_MUN_EA\")      \n",
        "id_SSU <- c(\"id_hh\")             \n",
        "domain_var <- c(\"region\") \n",
        "delta <- length(unique(samp_frame$id_ind)) / length(unique(samp_frame$id_hh))                  \n",
        "minimum <- 24                \n",
        "\n",
        "inp <- prepareInputToAllocation2(\n",
        "  samp_frame,  # sampling frame\n",
        "  RGdes,       # ReGenesees design object\n",
        "  RGcal,       # ReGenesees calibrated object\n",
        "  id_PSU,      # identification variable of PSUs\n",
        "  id_SSU,      # identification variable of SSUs\n",
        "  strata_var,  # strata variables\n",
        "  target_vars, # target variables\n",
        "  deff_var,    # deff variables\n",
        "  domain_var,  # domain variables\n",
        "  delta,       # Average number of SSUs for each selection unit\n",
        "  minimum      # Minimum number of SSUs to be selected in each PSU\n",
        ")\n",
        "\n",
        "\n",
        "## --------------------------------------------------------------------------------------------\n",
        "strata <- inp$strata\n",
        "deff <- inp$deff\n",
        "\n",
        "\n",
        "## --------------------------------------------------------------------------------------------\n",
        "strata2 <- strata\n",
        "strata2$S1 <- strata$S1 * sqrt(deff$DEFF1)\n",
        "strata2$S2 <- strata$S2 * sqrt(deff$DEFF2)\n",
        "strata2$S3 <- strata$S3 * sqrt(deff$DEFF3)\n",
        "strata2$S4 <- strata$S4 * sqrt(deff$DEFF4)"
      ],
      "metadata": {
        "id": "xZ_LEmLd7WxF"
      },
      "execution_count": 6,
      "outputs": []
    },
    {
      "cell_type": "code",
      "source": [
        "cv <- as.data.frame(list(DOM=c(\"DOM1\",\"DOM2\"),\n",
        "                         CV1=c(0.02,0.03),\n",
        "                         CV2=c(0.03,0.06),\n",
        "                         CV3=c(0.03,0.06),\n",
        "                         CV4=c(0.05,0.08)))\n",
        "cv\n"
      ],
      "metadata": {
        "colab": {
          "base_uri": "https://localhost:8080/",
          "height": 161
        },
        "id": "fOGZM2M_7oS-",
        "outputId": "97330906-100b-46dd-c205-d01c1637293a"
      },
      "execution_count": 7,
      "outputs": [
        {
          "output_type": "display_data",
          "data": {
            "text/html": [
              "<table class=\"dataframe\">\n",
              "<caption>A data.frame: 2 × 5</caption>\n",
              "<thead>\n",
              "\t<tr><th scope=col>DOM</th><th scope=col>CV1</th><th scope=col>CV2</th><th scope=col>CV3</th><th scope=col>CV4</th></tr>\n",
              "\t<tr><th scope=col>&lt;chr&gt;</th><th scope=col>&lt;dbl&gt;</th><th scope=col>&lt;dbl&gt;</th><th scope=col>&lt;dbl&gt;</th><th scope=col>&lt;dbl&gt;</th></tr>\n",
              "</thead>\n",
              "<tbody>\n",
              "\t<tr><td>DOM1</td><td>0.02</td><td>0.03</td><td>0.03</td><td>0.05</td></tr>\n",
              "\t<tr><td>DOM2</td><td>0.03</td><td>0.06</td><td>0.06</td><td>0.08</td></tr>\n",
              "</tbody>\n",
              "</table>\n"
            ],
            "text/markdown": "\nA data.frame: 2 × 5\n\n| DOM &lt;chr&gt; | CV1 &lt;dbl&gt; | CV2 &lt;dbl&gt; | CV3 &lt;dbl&gt; | CV4 &lt;dbl&gt; |\n|---|---|---|---|---|\n| DOM1 | 0.02 | 0.03 | 0.03 | 0.05 |\n| DOM2 | 0.03 | 0.06 | 0.06 | 0.08 |\n\n",
            "text/latex": "A data.frame: 2 × 5\n\\begin{tabular}{lllll}\n DOM & CV1 & CV2 & CV3 & CV4\\\\\n <chr> & <dbl> & <dbl> & <dbl> & <dbl>\\\\\n\\hline\n\t DOM1 & 0.02 & 0.03 & 0.03 & 0.05\\\\\n\t DOM2 & 0.03 & 0.06 & 0.06 & 0.08\\\\\n\\end{tabular}\n",
            "text/plain": [
              "  DOM  CV1  CV2  CV3  CV4 \n",
              "1 DOM1 0.02 0.03 0.03 0.05\n",
              "2 DOM2 0.03 0.06 0.06 0.08"
            ]
          },
          "metadata": {}
        }
      ]
    },
    {
      "cell_type": "code",
      "source": [
        "alloc <- beat.1st(stratif = strata2, errors = cv)\n",
        "sum(alloc$n)\n",
        "\n",
        "\n",
        "## --------------------------------------------------------------------------------------------\n",
        "alloc_no_deff <- beat.1st(stratif = strata, errors = cv)\n",
        "sum(alloc_no_deff$n)"
      ],
      "metadata": {
        "colab": {
          "base_uri": "https://localhost:8080/",
          "height": 52
        },
        "id": "O33AbrNJ7yzd",
        "outputId": "337c7016-3b1e-4802-cede-f2e9e62bb586"
      },
      "execution_count": 8,
      "outputs": [
        {
          "output_type": "display_data",
          "data": {
            "text/html": [
              "9171"
            ],
            "text/markdown": "9171",
            "text/latex": "9171",
            "text/plain": [
              "[1] 9171"
            ]
          },
          "metadata": {}
        },
        {
          "output_type": "display_data",
          "data": {
            "text/html": [
              "8052"
            ],
            "text/markdown": "8052",
            "text/latex": "8052",
            "text/plain": [
              "[1] 8052"
            ]
          },
          "metadata": {}
        }
      ]
    },
    {
      "cell_type": "code",
      "source": [
        "R2BEAT::sens_names(s=alloc$sensitivity,\n",
        "           target_vars=target_vars,\n",
        "           strata=strata2)"
      ],
      "metadata": {
        "colab": {
          "base_uri": "https://localhost:8080/",
          "height": 600
        },
        "id": "jQ-p2mwh76Ou",
        "outputId": "157f91ca-21b9-492c-d230-68ff7c0e4313"
      },
      "execution_count": 9,
      "outputs": [
        {
          "output_type": "display_data",
          "data": {
            "text/html": [
              "<table class=\"dataframe\">\n",
              "<caption>A data.frame: 16 × 6</caption>\n",
              "<thead>\n",
              "\t<tr><th></th><th scope=col>Type</th><th scope=col>Dom</th><th scope=col>Var</th><th scope=col>Planned CV</th><th scope=col>Actual CV</th><th scope=col>Sensitivity 10%</th></tr>\n",
              "\t<tr><th></th><th scope=col>&lt;chr&gt;</th><th scope=col>&lt;chr&gt;</th><th scope=col>&lt;chr&gt;</th><th scope=col>&lt;dbl&gt;</th><th scope=col>&lt;dbl&gt;</th><th scope=col>&lt;dbl&gt;</th></tr>\n",
              "</thead>\n",
              "<tbody>\n",
              "\t<tr><th scope=row>2</th><td>DOM1</td><td>Total </td><td>income_hh </td><td>0.02</td><td>0.0117</td><td>   1</td></tr>\n",
              "\t<tr><th scope=row>3</th><td>DOM1</td><td>Total </td><td>active    </td><td>0.03</td><td>0.0107</td><td>   1</td></tr>\n",
              "\t<tr><th scope=row>4</th><td>DOM1</td><td>Total </td><td>inactive  </td><td>0.03</td><td>0.0278</td><td>   1</td></tr>\n",
              "\t<tr><th scope=row>5</th><td>DOM1</td><td>Total </td><td>unemployed</td><td>0.05</td><td>0.0463</td><td>   1</td></tr>\n",
              "\t<tr><th scope=row>6</th><td>DOM2</td><td>north </td><td>income_hh </td><td>0.03</td><td>0.0163</td><td>   1</td></tr>\n",
              "\t<tr><th scope=row>7</th><td>DOM2</td><td>north </td><td>active    </td><td>0.06</td><td>0.0072</td><td>   0</td></tr>\n",
              "\t<tr><th scope=row>8</th><td>DOM2</td><td>north </td><td>inactive  </td><td>0.06</td><td>0.0242</td><td>   1</td></tr>\n",
              "\t<tr><th scope=row>9</th><td>DOM2</td><td>north </td><td>unemployed</td><td>0.08</td><td>0.0800</td><td>1288</td></tr>\n",
              "\t<tr><th scope=row>10</th><td>DOM2</td><td>center</td><td>income_hh </td><td>0.03</td><td>0.0201</td><td>   1</td></tr>\n",
              "\t<tr><th scope=row>11</th><td>DOM2</td><td>center</td><td>active    </td><td>0.06</td><td>0.0216</td><td>   1</td></tr>\n",
              "\t<tr><th scope=row>12</th><td>DOM2</td><td>center</td><td>inactive  </td><td>0.06</td><td>0.0599</td><td> 324</td></tr>\n",
              "\t<tr><th scope=row>13</th><td>DOM2</td><td>center</td><td>unemployed</td><td>0.08</td><td>0.0775</td><td>   1</td></tr>\n",
              "\t<tr><th scope=row>14</th><td>DOM2</td><td>south </td><td>income_hh </td><td>0.03</td><td>0.0299</td><td>  35</td></tr>\n",
              "\t<tr><th scope=row>15</th><td>DOM2</td><td>south </td><td>active    </td><td>0.06</td><td>0.0398</td><td>   1</td></tr>\n",
              "\t<tr><th scope=row>16</th><td>DOM2</td><td>south </td><td>inactive  </td><td>0.06</td><td>0.0599</td><td> 187</td></tr>\n",
              "\t<tr><th scope=row>17</th><td>DOM2</td><td>south </td><td>unemployed</td><td>0.08</td><td>0.0651</td><td>   1</td></tr>\n",
              "</tbody>\n",
              "</table>\n"
            ],
            "text/markdown": "\nA data.frame: 16 × 6\n\n| <!--/--> | Type &lt;chr&gt; | Dom &lt;chr&gt; | Var &lt;chr&gt; | Planned CV &lt;dbl&gt; | Actual CV &lt;dbl&gt; | Sensitivity 10% &lt;dbl&gt; |\n|---|---|---|---|---|---|---|\n| 2 | DOM1 | Total  | income_hh  | 0.02 | 0.0117 |    1 |\n| 3 | DOM1 | Total  | active     | 0.03 | 0.0107 |    1 |\n| 4 | DOM1 | Total  | inactive   | 0.03 | 0.0278 |    1 |\n| 5 | DOM1 | Total  | unemployed | 0.05 | 0.0463 |    1 |\n| 6 | DOM2 | north  | income_hh  | 0.03 | 0.0163 |    1 |\n| 7 | DOM2 | north  | active     | 0.06 | 0.0072 |    0 |\n| 8 | DOM2 | north  | inactive   | 0.06 | 0.0242 |    1 |\n| 9 | DOM2 | north  | unemployed | 0.08 | 0.0800 | 1288 |\n| 10 | DOM2 | center | income_hh  | 0.03 | 0.0201 |    1 |\n| 11 | DOM2 | center | active     | 0.06 | 0.0216 |    1 |\n| 12 | DOM2 | center | inactive   | 0.06 | 0.0599 |  324 |\n| 13 | DOM2 | center | unemployed | 0.08 | 0.0775 |    1 |\n| 14 | DOM2 | south  | income_hh  | 0.03 | 0.0299 |   35 |\n| 15 | DOM2 | south  | active     | 0.06 | 0.0398 |    1 |\n| 16 | DOM2 | south  | inactive   | 0.06 | 0.0599 |  187 |\n| 17 | DOM2 | south  | unemployed | 0.08 | 0.0651 |    1 |\n\n",
            "text/latex": "A data.frame: 16 × 6\n\\begin{tabular}{r|llllll}\n  & Type & Dom & Var & Planned CV & Actual CV & Sensitivity 10\\%\\\\\n  & <chr> & <chr> & <chr> & <dbl> & <dbl> & <dbl>\\\\\n\\hline\n\t2 & DOM1 & Total  & income\\_hh  & 0.02 & 0.0117 &    1\\\\\n\t3 & DOM1 & Total  & active     & 0.03 & 0.0107 &    1\\\\\n\t4 & DOM1 & Total  & inactive   & 0.03 & 0.0278 &    1\\\\\n\t5 & DOM1 & Total  & unemployed & 0.05 & 0.0463 &    1\\\\\n\t6 & DOM2 & north  & income\\_hh  & 0.03 & 0.0163 &    1\\\\\n\t7 & DOM2 & north  & active     & 0.06 & 0.0072 &    0\\\\\n\t8 & DOM2 & north  & inactive   & 0.06 & 0.0242 &    1\\\\\n\t9 & DOM2 & north  & unemployed & 0.08 & 0.0800 & 1288\\\\\n\t10 & DOM2 & center & income\\_hh  & 0.03 & 0.0201 &    1\\\\\n\t11 & DOM2 & center & active     & 0.06 & 0.0216 &    1\\\\\n\t12 & DOM2 & center & inactive   & 0.06 & 0.0599 &  324\\\\\n\t13 & DOM2 & center & unemployed & 0.08 & 0.0775 &    1\\\\\n\t14 & DOM2 & south  & income\\_hh  & 0.03 & 0.0299 &   35\\\\\n\t15 & DOM2 & south  & active     & 0.06 & 0.0398 &    1\\\\\n\t16 & DOM2 & south  & inactive   & 0.06 & 0.0599 &  187\\\\\n\t17 & DOM2 & south  & unemployed & 0.08 & 0.0651 &    1\\\\\n\\end{tabular}\n",
            "text/plain": [
              "   Type Dom    Var        Planned CV Actual CV Sensitivity 10%\n",
              "2  DOM1 Total  income_hh  0.02       0.0117       1           \n",
              "3  DOM1 Total  active     0.03       0.0107       1           \n",
              "4  DOM1 Total  inactive   0.03       0.0278       1           \n",
              "5  DOM1 Total  unemployed 0.05       0.0463       1           \n",
              "6  DOM2 north  income_hh  0.03       0.0163       1           \n",
              "7  DOM2 north  active     0.06       0.0072       0           \n",
              "8  DOM2 north  inactive   0.06       0.0242       1           \n",
              "9  DOM2 north  unemployed 0.08       0.0800    1288           \n",
              "10 DOM2 center income_hh  0.03       0.0201       1           \n",
              "11 DOM2 center active     0.06       0.0216       1           \n",
              "12 DOM2 center inactive   0.06       0.0599     324           \n",
              "13 DOM2 center unemployed 0.08       0.0775       1           \n",
              "14 DOM2 south  income_hh  0.03       0.0299      35           \n",
              "15 DOM2 south  active     0.06       0.0398       1           \n",
              "16 DOM2 south  inactive   0.06       0.0599     187           \n",
              "17 DOM2 south  unemployed 0.08       0.0651       1           "
            ]
          },
          "metadata": {}
        }
      ]
    },
    {
      "cell_type": "code",
      "source": [
        "des_file <- inp$des_file \n",
        "des_file$DELTA <- with(samp_frame, tapply(id_ind, list(stratum), function(x) length(unique(x)))) / \n",
        "  with(samp_frame, tapply(id_hh, list(stratum), function(x) length(unique(x))))\n",
        "des_file\n",
        "\n",
        "\n",
        "## --------------------------------------------------------------------------------------------\n",
        "# source(\"select_PSU2.R\")\n",
        "psu_file <- inp$psu_file\n",
        "PSU_sample <- select_PSU2(alloc=alloc, \n",
        "                    type=\"ALLOC\", \n",
        "                    des_file=des_file,\n",
        "                    psu_file=psu_file)"
      ],
      "metadata": {
        "colab": {
          "base_uri": "https://localhost:8080/",
          "height": 1000
        },
        "id": "FHo_vlJaAnyu",
        "outputId": "da137525-1b51-4937-a41f-8d3f9dd6bc0d"
      },
      "execution_count": 10,
      "outputs": [
        {
          "output_type": "display_data",
          "data": {
            "text/html": [
              "<table class=\"dataframe\">\n",
              "<caption>A data.frame: 24 × 4</caption>\n",
              "<thead>\n",
              "\t<tr><th scope=col>STRATUM</th><th scope=col>STRAT_MOS</th><th scope=col>DELTA</th><th scope=col>MINIMUM</th></tr>\n",
              "\t<tr><th scope=col>&lt;fct&gt;</th><th scope=col>&lt;dbl&gt;</th><th scope=col>&lt;dbl[1d]&gt;</th><th scope=col>&lt;dbl&gt;</th></tr>\n",
              "</thead>\n",
              "<tbody>\n",
              "\t<tr><td>1000 </td><td>196791</td><td>2.484013</td><td>24</td></tr>\n",
              "\t<tr><td>2000 </td><td>260412</td><td>2.366951</td><td>24</td></tr>\n",
              "\t<tr><td>3000 </td><td>113373</td><td>2.351405</td><td>24</td></tr>\n",
              "\t<tr><td>4000 </td><td> 15654</td><td>2.199522</td><td>24</td></tr>\n",
              "\t<tr><td>5000 </td><td>101036</td><td>2.320906</td><td>24</td></tr>\n",
              "\t<tr><td>6000 </td><td> 47036</td><td>2.235445</td><td>24</td></tr>\n",
              "\t<tr><td>7000 </td><td> 29671</td><td>2.253950</td><td>24</td></tr>\n",
              "\t<tr><td>8000 </td><td> 24985</td><td>2.190322</td><td>24</td></tr>\n",
              "\t<tr><td>9000 </td><td> 92780</td><td>2.303834</td><td>24</td></tr>\n",
              "\t<tr><td>10000</td><td>105327</td><td>2.199628</td><td>24</td></tr>\n",
              "\t<tr><td>11000</td><td>200757</td><td>2.392328</td><td>24</td></tr>\n",
              "\t<tr><td>12000</td><td> 53612</td><td>2.396067</td><td>24</td></tr>\n",
              "\t<tr><td>13000</td><td>102907</td><td>2.382768</td><td>24</td></tr>\n",
              "\t<tr><td>14000</td><td> 83901</td><td>2.216613</td><td>24</td></tr>\n",
              "\t<tr><td>15000</td><td>182788</td><td>2.252915</td><td>24</td></tr>\n",
              "\t<tr><td>16000</td><td> 99781</td><td>2.191255</td><td>24</td></tr>\n",
              "\t<tr><td>17000</td><td> 61117</td><td>2.562773</td><td>24</td></tr>\n",
              "\t<tr><td>18000</td><td> 73806</td><td>2.534025</td><td>24</td></tr>\n",
              "\t<tr><td>19000</td><td>137396</td><td>2.392866</td><td>24</td></tr>\n",
              "\t<tr><td>20000</td><td> 57063</td><td>2.197181</td><td>24</td></tr>\n",
              "\t<tr><td>21000</td><td> 54926</td><td>2.607948</td><td>24</td></tr>\n",
              "\t<tr><td>22000</td><td> 41362</td><td>2.422939</td><td>24</td></tr>\n",
              "\t<tr><td>23000</td><td> 70811</td><td>2.383968</td><td>24</td></tr>\n",
              "\t<tr><td>24000</td><td> 10408</td><td>2.082433</td><td>24</td></tr>\n",
              "</tbody>\n",
              "</table>\n"
            ],
            "text/markdown": "\nA data.frame: 24 × 4\n\n| STRATUM &lt;fct&gt; | STRAT_MOS &lt;dbl&gt; | DELTA &lt;dbl[1d]&gt; | MINIMUM &lt;dbl&gt; |\n|---|---|---|---|\n| 1000  | 196791 | 2.484013 | 24 |\n| 2000  | 260412 | 2.366951 | 24 |\n| 3000  | 113373 | 2.351405 | 24 |\n| 4000  |  15654 | 2.199522 | 24 |\n| 5000  | 101036 | 2.320906 | 24 |\n| 6000  |  47036 | 2.235445 | 24 |\n| 7000  |  29671 | 2.253950 | 24 |\n| 8000  |  24985 | 2.190322 | 24 |\n| 9000  |  92780 | 2.303834 | 24 |\n| 10000 | 105327 | 2.199628 | 24 |\n| 11000 | 200757 | 2.392328 | 24 |\n| 12000 |  53612 | 2.396067 | 24 |\n| 13000 | 102907 | 2.382768 | 24 |\n| 14000 |  83901 | 2.216613 | 24 |\n| 15000 | 182788 | 2.252915 | 24 |\n| 16000 |  99781 | 2.191255 | 24 |\n| 17000 |  61117 | 2.562773 | 24 |\n| 18000 |  73806 | 2.534025 | 24 |\n| 19000 | 137396 | 2.392866 | 24 |\n| 20000 |  57063 | 2.197181 | 24 |\n| 21000 |  54926 | 2.607948 | 24 |\n| 22000 |  41362 | 2.422939 | 24 |\n| 23000 |  70811 | 2.383968 | 24 |\n| 24000 |  10408 | 2.082433 | 24 |\n\n",
            "text/latex": "A data.frame: 24 × 4\n\\begin{tabular}{llll}\n STRATUM & STRAT\\_MOS & DELTA & MINIMUM\\\\\n <fct> & <dbl> & <dbl{[}1d{]}> & <dbl>\\\\\n\\hline\n\t 1000  & 196791 & 2.484013 & 24\\\\\n\t 2000  & 260412 & 2.366951 & 24\\\\\n\t 3000  & 113373 & 2.351405 & 24\\\\\n\t 4000  &  15654 & 2.199522 & 24\\\\\n\t 5000  & 101036 & 2.320906 & 24\\\\\n\t 6000  &  47036 & 2.235445 & 24\\\\\n\t 7000  &  29671 & 2.253950 & 24\\\\\n\t 8000  &  24985 & 2.190322 & 24\\\\\n\t 9000  &  92780 & 2.303834 & 24\\\\\n\t 10000 & 105327 & 2.199628 & 24\\\\\n\t 11000 & 200757 & 2.392328 & 24\\\\\n\t 12000 &  53612 & 2.396067 & 24\\\\\n\t 13000 & 102907 & 2.382768 & 24\\\\\n\t 14000 &  83901 & 2.216613 & 24\\\\\n\t 15000 & 182788 & 2.252915 & 24\\\\\n\t 16000 &  99781 & 2.191255 & 24\\\\\n\t 17000 &  61117 & 2.562773 & 24\\\\\n\t 18000 &  73806 & 2.534025 & 24\\\\\n\t 19000 & 137396 & 2.392866 & 24\\\\\n\t 20000 &  57063 & 2.197181 & 24\\\\\n\t 21000 &  54926 & 2.607948 & 24\\\\\n\t 22000 &  41362 & 2.422939 & 24\\\\\n\t 23000 &  70811 & 2.383968 & 24\\\\\n\t 24000 &  10408 & 2.082433 & 24\\\\\n\\end{tabular}\n",
            "text/plain": [
              "   STRATUM STRAT_MOS DELTA    MINIMUM\n",
              "1  1000    196791    2.484013 24     \n",
              "2  2000    260412    2.366951 24     \n",
              "3  3000    113373    2.351405 24     \n",
              "4  4000     15654    2.199522 24     \n",
              "5  5000    101036    2.320906 24     \n",
              "6  6000     47036    2.235445 24     \n",
              "7  7000     29671    2.253950 24     \n",
              "8  8000     24985    2.190322 24     \n",
              "9  9000     92780    2.303834 24     \n",
              "10 10000   105327    2.199628 24     \n",
              "11 11000   200757    2.392328 24     \n",
              "12 12000    53612    2.396067 24     \n",
              "13 13000   102907    2.382768 24     \n",
              "14 14000    83901    2.216613 24     \n",
              "15 15000   182788    2.252915 24     \n",
              "16 16000    99781    2.191255 24     \n",
              "17 17000    61117    2.562773 24     \n",
              "18 18000    73806    2.534025 24     \n",
              "19 19000   137396    2.392866 24     \n",
              "20 20000    57063    2.197181 24     \n",
              "21 21000    54926    2.607948 24     \n",
              "22 22000    41362    2.422939 24     \n",
              "23 23000    70811    2.383968 24     \n",
              "24 24000    10408    2.082433 24     "
            ]
          },
          "metadata": {}
        },
        {
          "output_type": "stream",
          "name": "stdout",
          "text": [
            "\n",
            " Stratum:  1000   PSUs to be selected:  5   PSUs selected:  5\n",
            " Stratum:  2000   PSUs to be selected:  13   PSUs selected:  13\n",
            " Stratum:  3000   PSUs to be selected:  4   PSUs selected:  4\n",
            " Stratum:  4000   PSUs to be selected:  1   PSUs selected:  1\n",
            " Stratum:  5000   PSUs to be selected:  3   PSUs selected:  3\n",
            " Stratum:  6000   PSUs to be selected:  3   PSUs selected:  3\n",
            " Stratum:  7000   PSUs to be selected:  1   PSUs selected:  1\n",
            " Stratum:  8000   PSUs to be selected:  1   PSUs selected:  1\n",
            " Stratum:  9000   PSUs to be selected:  10   PSUs selected:  10\n",
            " Stratum:  10000   PSUs to be selected:  10   PSUs selected:  10\n",
            " Stratum:  11000   PSUs to be selected:  20   PSUs selected:  20\n",
            " Stratum:  12000   PSUs to be selected:  9   PSUs selected:  9\n",
            " Stratum:  13000   PSUs to be selected:  13   PSUs selected:  13\n",
            " Stratum:  14000   PSUs to be selected:  11   PSUs selected:  11\n",
            " Stratum:  15000   PSUs to be selected:  23   PSUs selected:  23\n",
            " Stratum:  16000   PSUs to be selected:  20   PSUs selected:  20\n",
            " Stratum:  17000   PSUs to be selected:  2   PSUs selected:  2\n",
            " Stratum:  18000   PSUs to be selected:  2   PSUs selected:  2\n",
            " Stratum:  19000   PSUs to be selected:  7   PSUs selected:  7\n",
            " Stratum:  20000   PSUs to be selected:  2   PSUs selected:  2\n",
            " Stratum:  21000   PSUs to be selected:  2   PSUs selected:  2\n",
            " Stratum:  22000   PSUs to be selected:  1   PSUs selected:  1\n",
            " Stratum:  23000   PSUs to be selected:  3   PSUs selected:  3\n",
            " Stratum:  24000   PSUs to be selected:  1   PSUs selected:  1"
          ]
        }
      ]
    },
    {
      "cell_type": "code",
      "source": [
        "PSU_sample$PSU_stats"
      ],
      "metadata": {
        "colab": {
          "base_uri": "https://localhost:8080/",
          "height": 882
        },
        "id": "9XWD5H_4Ho0u",
        "outputId": "fb7b1151-2ad7-4aa0-e185-07a4a3f41c4d"
      },
      "execution_count": 11,
      "outputs": [
        {
          "output_type": "display_data",
          "data": {
            "text/html": [
              "<table class=\"dataframe\">\n",
              "<caption>A data.frame: 25 × 5</caption>\n",
              "<thead>\n",
              "\t<tr><th scope=col>STRATUM</th><th scope=col>PSU</th><th scope=col>SSU</th><th scope=col>DELTA</th><th scope=col>Units</th></tr>\n",
              "\t<tr><th scope=col>&lt;fct&gt;</th><th scope=col>&lt;chr&gt;</th><th scope=col>&lt;chr&gt;</th><th scope=col>&lt;chr&gt;</th><th scope=col>&lt;chr&gt;</th></tr>\n",
              "</thead>\n",
              "<tbody>\n",
              "\t<tr><td>1000 </td><td>5  </td><td>120 </td><td>2.48</td><td>298 </td></tr>\n",
              "\t<tr><td>2000 </td><td>13 </td><td>312 </td><td>2.37</td><td>738 </td></tr>\n",
              "\t<tr><td>3000 </td><td>4  </td><td>96  </td><td>2.35</td><td>226 </td></tr>\n",
              "\t<tr><td>4000 </td><td>1  </td><td>24  </td><td>2.2 </td><td>53  </td></tr>\n",
              "\t<tr><td>5000 </td><td>3  </td><td>72  </td><td>2.32</td><td>167 </td></tr>\n",
              "\t<tr><td>6000 </td><td>3  </td><td>72  </td><td>2.24</td><td>161 </td></tr>\n",
              "\t<tr><td>7000 </td><td>1  </td><td>24  </td><td>2.25</td><td>54  </td></tr>\n",
              "\t<tr><td>8000 </td><td>1  </td><td>24  </td><td>2.19</td><td>53  </td></tr>\n",
              "\t<tr><td>9000 </td><td>10 </td><td>240 </td><td>2.3 </td><td>553 </td></tr>\n",
              "\t<tr><td>10000</td><td>10 </td><td>240 </td><td>2.2 </td><td>528 </td></tr>\n",
              "\t<tr><td>11000</td><td>20 </td><td>480 </td><td>2.39</td><td>1148</td></tr>\n",
              "\t<tr><td>12000</td><td>9  </td><td>216 </td><td>2.4 </td><td>518 </td></tr>\n",
              "\t<tr><td>13000</td><td>13 </td><td>312 </td><td>2.38</td><td>743 </td></tr>\n",
              "\t<tr><td>14000</td><td>11 </td><td>264 </td><td>2.22</td><td>585 </td></tr>\n",
              "\t<tr><td>15000</td><td>23 </td><td>552 </td><td>2.25</td><td>1244</td></tr>\n",
              "\t<tr><td>16000</td><td>20 </td><td>480 </td><td>2.19</td><td>1052</td></tr>\n",
              "\t<tr><td>17000</td><td>2  </td><td>48  </td><td>2.56</td><td>123 </td></tr>\n",
              "\t<tr><td>18000</td><td>2  </td><td>48  </td><td>2.53</td><td>122 </td></tr>\n",
              "\t<tr><td>19000</td><td>7  </td><td>168 </td><td>2.39</td><td>402 </td></tr>\n",
              "\t<tr><td>20000</td><td>2  </td><td>48  </td><td>2.2 </td><td>105 </td></tr>\n",
              "\t<tr><td>21000</td><td>2  </td><td>48  </td><td>2.61</td><td>125 </td></tr>\n",
              "\t<tr><td>22000</td><td>1  </td><td>24  </td><td>2.42</td><td>58  </td></tr>\n",
              "\t<tr><td>23000</td><td>3  </td><td>72  </td><td>2.38</td><td>172 </td></tr>\n",
              "\t<tr><td>24000</td><td>1  </td><td>24  </td><td>2.08</td><td>50  </td></tr>\n",
              "\t<tr><td>NA   </td><td>167</td><td>4008</td><td>2.31</td><td>9278</td></tr>\n",
              "</tbody>\n",
              "</table>\n"
            ],
            "text/markdown": "\nA data.frame: 25 × 5\n\n| STRATUM &lt;fct&gt; | PSU &lt;chr&gt; | SSU &lt;chr&gt; | DELTA &lt;chr&gt; | Units &lt;chr&gt; |\n|---|---|---|---|---|\n| 1000  | 5   | 120  | 2.48 | 298  |\n| 2000  | 13  | 312  | 2.37 | 738  |\n| 3000  | 4   | 96   | 2.35 | 226  |\n| 4000  | 1   | 24   | 2.2  | 53   |\n| 5000  | 3   | 72   | 2.32 | 167  |\n| 6000  | 3   | 72   | 2.24 | 161  |\n| 7000  | 1   | 24   | 2.25 | 54   |\n| 8000  | 1   | 24   | 2.19 | 53   |\n| 9000  | 10  | 240  | 2.3  | 553  |\n| 10000 | 10  | 240  | 2.2  | 528  |\n| 11000 | 20  | 480  | 2.39 | 1148 |\n| 12000 | 9   | 216  | 2.4  | 518  |\n| 13000 | 13  | 312  | 2.38 | 743  |\n| 14000 | 11  | 264  | 2.22 | 585  |\n| 15000 | 23  | 552  | 2.25 | 1244 |\n| 16000 | 20  | 480  | 2.19 | 1052 |\n| 17000 | 2   | 48   | 2.56 | 123  |\n| 18000 | 2   | 48   | 2.53 | 122  |\n| 19000 | 7   | 168  | 2.39 | 402  |\n| 20000 | 2   | 48   | 2.2  | 105  |\n| 21000 | 2   | 48   | 2.61 | 125  |\n| 22000 | 1   | 24   | 2.42 | 58   |\n| 23000 | 3   | 72   | 2.38 | 172  |\n| 24000 | 1   | 24   | 2.08 | 50   |\n| NA    | 167 | 4008 | 2.31 | 9278 |\n\n",
            "text/latex": "A data.frame: 25 × 5\n\\begin{tabular}{lllll}\n STRATUM & PSU & SSU & DELTA & Units\\\\\n <fct> & <chr> & <chr> & <chr> & <chr>\\\\\n\\hline\n\t 1000  & 5   & 120  & 2.48 & 298 \\\\\n\t 2000  & 13  & 312  & 2.37 & 738 \\\\\n\t 3000  & 4   & 96   & 2.35 & 226 \\\\\n\t 4000  & 1   & 24   & 2.2  & 53  \\\\\n\t 5000  & 3   & 72   & 2.32 & 167 \\\\\n\t 6000  & 3   & 72   & 2.24 & 161 \\\\\n\t 7000  & 1   & 24   & 2.25 & 54  \\\\\n\t 8000  & 1   & 24   & 2.19 & 53  \\\\\n\t 9000  & 10  & 240  & 2.3  & 553 \\\\\n\t 10000 & 10  & 240  & 2.2  & 528 \\\\\n\t 11000 & 20  & 480  & 2.39 & 1148\\\\\n\t 12000 & 9   & 216  & 2.4  & 518 \\\\\n\t 13000 & 13  & 312  & 2.38 & 743 \\\\\n\t 14000 & 11  & 264  & 2.22 & 585 \\\\\n\t 15000 & 23  & 552  & 2.25 & 1244\\\\\n\t 16000 & 20  & 480  & 2.19 & 1052\\\\\n\t 17000 & 2   & 48   & 2.56 & 123 \\\\\n\t 18000 & 2   & 48   & 2.53 & 122 \\\\\n\t 19000 & 7   & 168  & 2.39 & 402 \\\\\n\t 20000 & 2   & 48   & 2.2  & 105 \\\\\n\t 21000 & 2   & 48   & 2.61 & 125 \\\\\n\t 22000 & 1   & 24   & 2.42 & 58  \\\\\n\t 23000 & 3   & 72   & 2.38 & 172 \\\\\n\t 24000 & 1   & 24   & 2.08 & 50  \\\\\n\t NA    & 167 & 4008 & 2.31 & 9278\\\\\n\\end{tabular}\n",
            "text/plain": [
              "   STRATUM PSU SSU  DELTA Units\n",
              "1  1000    5   120  2.48  298  \n",
              "2  2000    13  312  2.37  738  \n",
              "3  3000    4   96   2.35  226  \n",
              "4  4000    1   24   2.2   53   \n",
              "5  5000    3   72   2.32  167  \n",
              "6  6000    3   72   2.24  161  \n",
              "7  7000    1   24   2.25  54   \n",
              "8  8000    1   24   2.19  53   \n",
              "9  9000    10  240  2.3   553  \n",
              "10 10000   10  240  2.2   528  \n",
              "11 11000   20  480  2.39  1148 \n",
              "12 12000   9   216  2.4   518  \n",
              "13 13000   13  312  2.38  743  \n",
              "14 14000   11  264  2.22  585  \n",
              "15 15000   23  552  2.25  1244 \n",
              "16 16000   20  480  2.19  1052 \n",
              "17 17000   2   48   2.56  123  \n",
              "18 18000   2   48   2.53  122  \n",
              "19 19000   7   168  2.39  402  \n",
              "20 20000   2   48   2.2   105  \n",
              "21 21000   2   48   2.61  125  \n",
              "22 22000   1   24   2.42  58   \n",
              "23 23000   3   72   2.38  172  \n",
              "24 24000   1   24   2.08  50   \n",
              "25 NA      167 4008 2.31  9278 "
            ]
          },
          "metadata": {}
        }
      ]
    },
    {
      "cell_type": "code",
      "source": [
        "PSU_sample$sample_PSUs$Pik <- PSU_sample$sample_PSUs$pik_1st\n",
        "samp <- select_SSU(df=samp_frame,\n",
        "                   PSU_code=\"id_MUN_EA\",\n",
        "                   SSU_code=\"id_hh\",\n",
        "                   PSU_sampled=PSU_sample$sample_PSU,\n",
        "                   verbose=FALSE)"
      ],
      "metadata": {
        "colab": {
          "base_uri": "https://localhost:8080/"
        },
        "id": "uNtAU1z8H8zD",
        "outputId": "48025fc7-1a50-410b-ff97-686e5b709d25"
      },
      "execution_count": 12,
      "outputs": [
        {
          "output_type": "stream",
          "name": "stdout",
          "text": [
            "\n",
            "--------------------------------\n",
            "Total PSU =  167\n",
            "Total SSU =  4008\n",
            "Total Units =  9285\n",
            "--------------------------------"
          ]
        }
      ]
    }
  ]
}